{
 "cells": [
  {
   "cell_type": "code",
   "execution_count": 5,
   "metadata": {},
   "outputs": [],
   "source": [
    "from crud import *\n",
    "from data import *\n",
    "import statsmodels.api as sm\n",
    "import matplotlib.pyplot as plt\n",
    "from signal_utils import *\n",
    "from scipy.signal import argrelextrema"
   ]
  },
  {
   "cell_type": "code",
   "execution_count": 6,
   "metadata": {},
   "outputs": [],
   "source": [
    "mdb = MetadataDB()\n",
    "tickers = mdb.get_all_tickers()\n",
    "prices = load_eod_prices()"
   ]
  },
  {
   "cell_type": "markdown",
   "metadata": {},
   "source": [
    "n-day price windows, see if there is an edge on any securities"
   ]
  },
  {
   "cell_type": "code",
   "execution_count": 11,
   "metadata": {},
   "outputs": [],
   "source": [
    "df = []\n",
    "\n",
    "for n in [1, 3, 5, 10, 20, 40, 60]:\n",
    "    for ticker in tickers:\n",
    "        if len(prices[ticker]) < 5 * n:\n",
    "            continue\n",
    "        t_prices = prices[ticker][\"close\"]\n",
    "        windows = [t_prices[i:i+n+1] for i in range(0, len(t_prices), n)]\n",
    "        n_day_returns = []\n",
    "        for window in windows:\n",
    "            n_day_returns.append( (window[-1] / window[0]) - 1)\n",
    "        \n",
    "        uu, dd, ud, du = [], [], [], [] # up up, down down, up down, down up\n",
    "        for i in range(1, len(n_day_returns)):\n",
    "            if n_day_returns[i-1] > 0:\n",
    "                if n_day_returns[i] > 0:\n",
    "                    uu.append(n_day_returns[i])\n",
    "                else:\n",
    "                    ud.append(n_day_returns[i])\n",
    "            else:\n",
    "                if n_day_returns[i] > 0:\n",
    "                    du.append(n_day_returns[i])\n",
    "                else:\n",
    "                    dd.append(n_day_returns[i])\n",
    "        total = len(uu) + len(dd) + len(ud) + len(du)\n",
    "\n",
    "        df.append([ticker, n, total, len(uu)/total, len(dd)/total, len(ud)/total, len(du)/total])\n",
    "\n",
    "df = pd.DataFrame(df, columns=[\"ticker\", \"window\", \"num_samples\", \"uu\", \"dd\", \"ud\", \"du\"])\n",
    "df.to_csv(\"data/exp/dis_matrix.csv\", index=False)                \n",
    "\n"
   ]
  },
  {
   "attachments": {},
   "cell_type": "markdown",
   "metadata": {},
   "source": [
    "trend, avg drawdown pct, avg up move pct, avg cycle time"
   ]
  },
  {
   "cell_type": "markdown",
   "metadata": {},
   "source": []
  }
 ],
 "metadata": {
  "kernelspec": {
   "display_name": "Python 3",
   "language": "python",
   "name": "python3"
  },
  "language_info": {
   "codemirror_mode": {
    "name": "ipython",
    "version": 3
   },
   "file_extension": ".py",
   "mimetype": "text/x-python",
   "name": "python",
   "nbconvert_exporter": "python",
   "pygments_lexer": "ipython3",
   "version": "3.10.9 (main, Dec 15 2022, 10:44:50) [Clang 14.0.0 (clang-1400.0.29.202)]"
  },
  "orig_nbformat": 4,
  "vscode": {
   "interpreter": {
    "hash": "b0fa6594d8f4cbf19f97940f81e996739fb7646882a419484c72d19e05852a7e"
   }
  }
 },
 "nbformat": 4,
 "nbformat_minor": 2
}
